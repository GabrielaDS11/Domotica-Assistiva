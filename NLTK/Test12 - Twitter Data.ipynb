{
 "cells": [
  {
   "cell_type": "code",
   "execution_count": 89,
   "metadata": {},
   "outputs": [],
   "source": [
    "import pandas as pd\n",
    "import numpy as np"
   ]
  },
  {
   "cell_type": "code",
   "execution_count": 90,
   "metadata": {
    "scrolled": true
   },
   "outputs": [],
   "source": [
    "#Load the dataset\n",
    "acessivel = pd.read_csv(\"C:/Users/gabid/Documents/VStudio/acessibilidade-tweets.csv\", sep=\";\")\n",
    "aulas = pd.read_csv(\"C:/Users/gabid/Documents/VStudio/aula online-tweets.csv\",sep =\";\")"
   ]
  },
  {
   "cell_type": "code",
   "execution_count": 91,
   "metadata": {
    "scrolled": false
   },
   "outputs": [],
   "source": [
    "#Labels, 0 = acessibilidade, 1 = aulas online\n",
    "acessivel['Label'] = 0\n",
    "aulas['Label'] = 1"
   ]
  },
  {
   "cell_type": "code",
   "execution_count": 92,
   "metadata": {},
   "outputs": [
    {
     "data": {
      "text/html": [
       "<div>\n",
       "<style scoped>\n",
       "    .dataframe tbody tr th:only-of-type {\n",
       "        vertical-align: middle;\n",
       "    }\n",
       "\n",
       "    .dataframe tbody tr th {\n",
       "        vertical-align: top;\n",
       "    }\n",
       "\n",
       "    .dataframe thead th {\n",
       "        text-align: right;\n",
       "    }\n",
       "</style>\n",
       "<table border=\"1\" class=\"dataframe\">\n",
       "  <thead>\n",
       "    <tr style=\"text-align: right;\">\n",
       "      <th></th>\n",
       "      <th>DateTime</th>\n",
       "      <th>Tweet Id</th>\n",
       "      <th>Text</th>\n",
       "      <th>Label</th>\n",
       "    </tr>\n",
       "  </thead>\n",
       "  <tbody>\n",
       "    <tr>\n",
       "      <th>0</th>\n",
       "      <td>2020-10-15 21:13:15</td>\n",
       "      <td>1316849644547248130</td>\n",
       "      <td>@brunocombdefeio simm por causa de acessibilidade, é do mesmo tamanho que a cedula de 20 reais daí os cegos n conseguem diferenciar</td>\n",
       "      <td>0</td>\n",
       "    </tr>\n",
       "    <tr>\n",
       "      <th>1</th>\n",
       "      <td>2020-10-15 21:10:24</td>\n",
       "      <td>1316848923995262979</td>\n",
       "      <td>sim @AdobeBra, a péssima otimização da Adobe Creative Cloud, me faz usar os programas pirateados, mesmo tendo acess… https://t.co/O7dG5z45LD</td>\n",
       "      <td>0</td>\n",
       "    </tr>\n",
       "    <tr>\n",
       "      <th>2</th>\n",
       "      <td>2020-10-15 21:07:31</td>\n",
       "      <td>1316848200788127744</td>\n",
       "      <td>Programa Nacional de Acessibilidade será instituído no âmbito da Secretaria de Estado de Direitos Humanos do Ministério da Justiça.</td>\n",
       "      <td>0</td>\n",
       "    </tr>\n",
       "    <tr>\n",
       "      <th>3</th>\n",
       "      <td>2020-10-15 21:05:16</td>\n",
       "      <td>1316847635622494208</td>\n",
       "      <td>Poder Público fomentará: promoção de pesquisas científicas, desenvolvimento tecnológico e especialização de recurso… https://t.co/YCZOpaivFg</td>\n",
       "      <td>0</td>\n",
       "    </tr>\n",
       "    <tr>\n",
       "      <th>4</th>\n",
       "      <td>2020-10-15 21:03:14</td>\n",
       "      <td>1316847122415783936</td>\n",
       "      <td>A confiança d@s amig@s é algo que conquistamos com trabalho e honestidade 😌. É pelo bem da nossa Teresina que segui… https://t.co/aKsPGzqk1o</td>\n",
       "      <td>0</td>\n",
       "    </tr>\n",
       "    <tr>\n",
       "      <th>...</th>\n",
       "      <td>...</td>\n",
       "      <td>...</td>\n",
       "      <td>...</td>\n",
       "      <td>...</td>\n",
       "    </tr>\n",
       "    <tr>\n",
       "      <th>295</th>\n",
       "      <td>2020-10-15 19:18:14</td>\n",
       "      <td>1316820698724274177</td>\n",
       "      <td>E eu que fui cantar \"vai Luan\" com o microfone da aula online ligado kkkk o prof ainda falou q eu canto bem, mds q vergonha</td>\n",
       "      <td>1</td>\n",
       "    </tr>\n",
       "    <tr>\n",
       "      <th>296</th>\n",
       "      <td>2020-10-15 19:17:48</td>\n",
       "      <td>1316820589647204352</td>\n",
       "      <td>e a prof que esqueceu da aula online</td>\n",
       "      <td>1</td>\n",
       "    </tr>\n",
       "    <tr>\n",
       "      <th>297</th>\n",
       "      <td>2020-10-15 19:17:04</td>\n",
       "      <td>1316820404166590468</td>\n",
       "      <td>Enquanto estou em uma aula online</td>\n",
       "      <td>1</td>\n",
       "    </tr>\n",
       "    <tr>\n",
       "      <th>298</th>\n",
       "      <td>2020-10-15 19:15:58</td>\n",
       "      <td>1316820128080723970</td>\n",
       "      <td>Slc mano, vou entrar na aula online do meu irmão e o tanto de pai que não sabe escrever o básico do português é incrível</td>\n",
       "      <td>1</td>\n",
       "    </tr>\n",
       "    <tr>\n",
       "      <th>299</th>\n",
       "      <td>2020-10-15 19:15:12</td>\n",
       "      <td>1316819935860056066</td>\n",
       "      <td>Esse clima e aula online não combinam</td>\n",
       "      <td>1</td>\n",
       "    </tr>\n",
       "  </tbody>\n",
       "</table>\n",
       "<p>300 rows × 4 columns</p>\n",
       "</div>"
      ],
      "text/plain": [
       "                DateTime             Tweet Id  \\\n",
       "0    2020-10-15 21:13:15  1316849644547248130   \n",
       "1    2020-10-15 21:10:24  1316848923995262979   \n",
       "2    2020-10-15 21:07:31  1316848200788127744   \n",
       "3    2020-10-15 21:05:16  1316847635622494208   \n",
       "4    2020-10-15 21:03:14  1316847122415783936   \n",
       "..                   ...                  ...   \n",
       "295  2020-10-15 19:18:14  1316820698724274177   \n",
       "296  2020-10-15 19:17:48  1316820589647204352   \n",
       "297  2020-10-15 19:17:04  1316820404166590468   \n",
       "298  2020-10-15 19:15:58  1316820128080723970   \n",
       "299  2020-10-15 19:15:12  1316819935860056066   \n",
       "\n",
       "                                                                                                                                             Text  \\\n",
       "0    @brunocombdefeio simm por causa de acessibilidade, é do mesmo tamanho que a cedula de 20 reais daí os cegos n conseguem diferenciar            \n",
       "1    sim @AdobeBra, a péssima otimização da Adobe Creative Cloud, me faz usar os programas pirateados, mesmo tendo acess… https://t.co/O7dG5z45LD   \n",
       "2    Programa Nacional de Acessibilidade será instituído no âmbito da Secretaria de Estado de Direitos Humanos do Ministério da Justiça.            \n",
       "3    Poder Público fomentará: promoção de pesquisas científicas, desenvolvimento tecnológico e especialização de recurso… https://t.co/YCZOpaivFg   \n",
       "4    A confiança d@s amig@s é algo que conquistamos com trabalho e honestidade 😌. É pelo bem da nossa Teresina que segui… https://t.co/aKsPGzqk1o   \n",
       "..                                                                                                                                            ...   \n",
       "295  E eu que fui cantar \"vai Luan\" com o microfone da aula online ligado kkkk o prof ainda falou q eu canto bem, mds q vergonha                    \n",
       "296  e a prof que esqueceu da aula online                                                                                                           \n",
       "297  Enquanto estou em uma aula online                                                                                                              \n",
       "298  Slc mano, vou entrar na aula online do meu irmão e o tanto de pai que não sabe escrever o básico do português é incrível                       \n",
       "299  Esse clima e aula online não combinam                                                                                                          \n",
       "\n",
       "     Label  \n",
       "0    0      \n",
       "1    0      \n",
       "2    0      \n",
       "3    0      \n",
       "4    0      \n",
       "..  ..      \n",
       "295  1      \n",
       "296  1      \n",
       "297  1      \n",
       "298  1      \n",
       "299  1      \n",
       "\n",
       "[300 rows x 4 columns]"
      ]
     },
     "execution_count": 92,
     "metadata": {},
     "output_type": "execute_result"
    }
   ],
   "source": [
    "#dataframe = pd.concat([acessivel, aulas], keys=[0,1])\n",
    "dataframe = pd.concat([acessivel, aulas], ignore_index=True)\n",
    "dataframe"
   ]
  },
  {
   "cell_type": "code",
   "execution_count": 93,
   "metadata": {},
   "outputs": [
    {
     "data": {
      "text/plain": [
       "DateTime    2020-10-15 19:18:14                                                                                                        \n",
       "Tweet Id    1316820698724274177                                                                                                        \n",
       "Text        E eu que fui cantar \"vai Luan\" com o microfone da aula online ligado kkkk o prof ainda falou q eu canto bem, mds q vergonha\n",
       "Label       1                                                                                                                          \n",
       "Name: 295, dtype: object"
      ]
     },
     "execution_count": 93,
     "metadata": {},
     "output_type": "execute_result"
    }
   ],
   "source": [
    "#mostrar texto inteiro\n",
    "pd.options.display.max_rows\n",
    "pd.set_option('display.max_colwidth', 1)\n",
    "dataframe.iloc[295]"
   ]
  },
  {
   "cell_type": "code",
   "execution_count": 94,
   "metadata": {
    "scrolled": true
   },
   "outputs": [
    {
     "name": "stdout",
     "output_type": "stream",
     "text": [
      "<class 'pandas.core.frame.DataFrame'>\n",
      "RangeIndex: 300 entries, 0 to 299\n",
      "Data columns (total 4 columns):\n",
      " #   Column    Non-Null Count  Dtype \n",
      "---  ------    --------------  ----- \n",
      " 0   DateTime  300 non-null    object\n",
      " 1   Tweet Id  300 non-null    int64 \n",
      " 2   Text      300 non-null    object\n",
      " 3   Label     300 non-null    int64 \n",
      "dtypes: int64(2), object(2)\n",
      "memory usage: 9.5+ KB\n"
     ]
    }
   ],
   "source": [
    "dataframe.info()"
   ]
  },
  {
   "cell_type": "code",
   "execution_count": 95,
   "metadata": {},
   "outputs": [],
   "source": [
    "import re\n",
    "from nltk.corpus import stopwords\n",
    "STOPWORDS = set(stopwords.words('portuguese'))\n",
    "\n",
    "def limpar_texto(text):\n",
    "    #transformar em letras minusculas\n",
    "    text = text.lower()\n",
    "    #retirar characters especiais\n",
    "    text = re.sub(r'\\W',' ',text)\n",
    "    text = re.sub(r'\\s+[a-zA-Z]\\s+',' ',text)\n",
    "    text = re.sub(r'\\^[a-zA-Z]\\s+', ' ', text)\n",
    "    text = re.sub(r'\\s+',' ', text)\n",
    "    text = ' '.join(word for word in text.split() if word not in STOPWORDS) \n",
    "    text = re.sub(r'\\W+', ' ', text)\n",
    "    \n",
    "    return text"
   ]
  },
  {
   "cell_type": "code",
   "execution_count": 96,
   "metadata": {},
   "outputs": [],
   "source": [
    "dataframe['Text'] = dataframe['Text'].apply(limpar_texto)"
   ]
  },
  {
   "cell_type": "code",
   "execution_count": 97,
   "metadata": {
    "scrolled": true
   },
   "outputs": [
    {
     "data": {
      "text/plain": [
       "DateTime    2020-10-15 19:18:14                                                                      \n",
       "Tweet Id    1316820698724274177                                                                      \n",
       "Text        cantar vai luan microfone aula online ligado kkkk prof ainda falou canto bem mds vergonha\n",
       "Label       1                                                                                        \n",
       "Name: 295, dtype: object"
      ]
     },
     "execution_count": 97,
     "metadata": {},
     "output_type": "execute_result"
    }
   ],
   "source": [
    "dataframe.iloc[295]"
   ]
  },
  {
   "cell_type": "code",
   "execution_count": 98,
   "metadata": {},
   "outputs": [
    {
     "data": {
      "text/plain": [
       "DateTime    2020-10-15 20:47:24                                                                      \n",
       "Tweet Id    1316843136300257280                                                                      \n",
       "Text        descobri assim acessibilidade tema professor achamos importante falar https co kuu2zfariv\n",
       "Label       0                                                                                        \n",
       "Name: 10, dtype: object"
      ]
     },
     "execution_count": 98,
     "metadata": {},
     "output_type": "execute_result"
    }
   ],
   "source": [
    "dataframe.iloc[10]"
   ]
  },
  {
   "cell_type": "code",
   "execution_count": 99,
   "metadata": {},
   "outputs": [],
   "source": [
    "X,y = dataframe.iloc[:,2], dataframe.iloc[:,3]"
   ]
  },
  {
   "cell_type": "code",
   "execution_count": 100,
   "metadata": {},
   "outputs": [],
   "source": [
    "#bag of words\n",
    "from sklearn.feature_extraction.text import CountVectorizer\n",
    "from nltk.tokenize import RegexpTokenizer\n",
    "\n",
    "token = RegexpTokenizer(r'[a-zA-Z0-9]+')\n",
    "vectorizer = CountVectorizer(min_df = 2, lowercase=True,ngram_range =(1,2),stop_words = STOPWORDS, tokenizer = word_tokenize)\n",
    "text_counts = vectorizer.fit_transform(X)\n",
    "    "
   ]
  },
  {
   "cell_type": "code",
   "execution_count": 101,
   "metadata": {},
   "outputs": [
    {
     "data": {
      "text/plain": [
       "scipy.sparse.csr.csr_matrix"
      ]
     },
     "execution_count": 101,
     "metadata": {},
     "output_type": "execute_result"
    }
   ],
   "source": [
    "type(text_counts)"
   ]
  },
  {
   "cell_type": "code",
   "execution_count": 102,
   "metadata": {},
   "outputs": [],
   "source": [
    "from sklearn.model_selection import train_test_split\n",
    "\n",
    "X_train, X_test, y_train, y_test = train_test_split(text_counts, y, test_size=0.3, random_state=1)"
   ]
  },
  {
   "cell_type": "code",
   "execution_count": 103,
   "metadata": {},
   "outputs": [
    {
     "data": {
      "text/plain": [
       "scipy.sparse.csr.csr_matrix"
      ]
     },
     "execution_count": 103,
     "metadata": {},
     "output_type": "execute_result"
    }
   ],
   "source": [
    "type(X_test)"
   ]
  },
  {
   "cell_type": "code",
   "execution_count": 105,
   "metadata": {},
   "outputs": [
    {
     "data": {
      "text/plain": [
       "scipy.sparse.csr.csr_matrix"
      ]
     },
     "execution_count": 105,
     "metadata": {},
     "output_type": "execute_result"
    }
   ],
   "source": [
    "teste = [\"Acessibilidade é extremamente importante\",\n",
    "        \"Dormindo na aula online\",\n",
    "        \"Parece que ninguem se importa com o fato de ser zero acessivel a rampa desse lugar\",\n",
    "        \"Eu faço tudo no computador, menos prestar atenção na aula\",\n",
    "        \"Imagem pessoas portadoras de deficiências visuais nesse lugar\"]\n",
    "\n",
    "testes_vect = vectorizer.transform(teste)\n",
    "type(testes_vect)"
   ]
  },
  {
   "cell_type": "code",
   "execution_count": 104,
   "metadata": {},
   "outputs": [
    {
     "name": "stdout",
     "output_type": "stream",
     "text": [
      "Random Forest Acuracia: 0.9555555555555556\n"
     ]
    }
   ],
   "source": [
    "#Random Forest\n",
    "from sklearn.ensemble import RandomForestClassifier\n",
    "from sklearn.metrics import classification_report, confusion_matrix, accuracy_score\n",
    "\n",
    "text_classifier = RandomForestClassifier(n_estimators=500, random_state=0)\n",
    "text_classifier.fit(X_train, y_train)\n",
    "forest_predict = text_classifier.predict(X_test)\n",
    "print(\"Random Forest Acuracia:\",accuracy_score(y_test, forest_predict))"
   ]
  },
  {
   "cell_type": "code",
   "execution_count": 106,
   "metadata": {},
   "outputs": [
    {
     "data": {
      "text/plain": [
       "array([0, 1, 0, 1, 0], dtype=int64)"
      ]
     },
     "execution_count": 106,
     "metadata": {},
     "output_type": "execute_result"
    }
   ],
   "source": [
    "text_classifier.predict(testes_vect)"
   ]
  },
  {
   "cell_type": "code",
   "execution_count": 107,
   "metadata": {},
   "outputs": [],
   "source": [
    "#X_train_array = np.array(X_train)\n",
    "#X_test_array = np.array(X_test)\n",
    "X_train_dense = X_train.todense()\n",
    "X_test_dense = X_test.todense()"
   ]
  },
  {
   "cell_type": "code",
   "execution_count": 108,
   "metadata": {},
   "outputs": [
    {
     "name": "stdout",
     "output_type": "stream",
     "text": [
      "Gaussian Acuracia: 0.9555555555555556\n"
     ]
    }
   ],
   "source": [
    "#Naive Bayes\n",
    "from sklearn.naive_bayes import GaussianNB\n",
    "#Naive Bayes com somente Bag of Words\n",
    "naivebayes = GaussianNB()\n",
    "naivebayes.fit(X_train_dense, y_train)\n",
    "naive_predicted = naivebayes.predict(X_test_dense)\n",
    "print(\"Gaussian Acuracia:\",accuracy_score(y_test, naive_predicted))"
   ]
  },
  {
   "cell_type": "code",
   "execution_count": 109,
   "metadata": {},
   "outputs": [
    {
     "data": {
      "text/plain": [
       "array([0, 1, 1, 1, 1], dtype=int64)"
      ]
     },
     "execution_count": 109,
     "metadata": {},
     "output_type": "execute_result"
    }
   ],
   "source": [
    "#type(testes_vect)\n",
    "testes_vect_dense = testes_vect.todense()\n",
    "naivebayes.predict(testes_vect_dense)"
   ]
  }
 ],
 "metadata": {
  "kernelspec": {
   "display_name": "Python 3",
   "language": "python",
   "name": "python3"
  },
  "language_info": {
   "codemirror_mode": {
    "name": "ipython",
    "version": 3
   },
   "file_extension": ".py",
   "mimetype": "text/x-python",
   "name": "python",
   "nbconvert_exporter": "python",
   "pygments_lexer": "ipython3",
   "version": "3.7.6"
  }
 },
 "nbformat": 4,
 "nbformat_minor": 4
}
