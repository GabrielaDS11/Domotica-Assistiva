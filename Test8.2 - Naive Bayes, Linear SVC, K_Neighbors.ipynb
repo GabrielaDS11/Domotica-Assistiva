{
 "cells": [
  {
   "cell_type": "code",
   "execution_count": 1,
   "metadata": {},
   "outputs": [],
   "source": [
    "import pandas as pd\n",
    "import matplotlib.pyplot as plt\n",
    "from sklearn.model_selection import train_test_split\n",
    "from sklearn.naive_bayes import GaussianNB\n",
    "from sklearn.metrics import accuracy_score,classification_report, confusion_matrix\n",
    "from sklearn.preprocessing import LabelEncoder \n",
    "\n",
    "%matplotlib inline"
   ]
  },
  {
   "cell_type": "code",
   "execution_count": 2,
   "metadata": {},
   "outputs": [],
   "source": [
    "smarthouse = pd.read_csv(\"smart_houses.csv\")"
   ]
  },
  {
   "cell_type": "code",
   "execution_count": 3,
   "metadata": {},
   "outputs": [],
   "source": [
    "le = LabelEncoder()\n",
    "smarthouse['familia'] = le.fit_transform(smarthouse['familia'].values)\n",
    "#smarthouse['familia']=le.inverse_transform(smarthouse['familia'])"
   ]
  },
  {
   "cell_type": "code",
   "execution_count": 4,
   "metadata": {},
   "outputs": [],
   "source": [
    "smarthouse['classe'] = le.fit_transform(smarthouse['classe'].values)"
   ]
  },
  {
   "cell_type": "code",
   "execution_count": 5,
   "metadata": {},
   "outputs": [],
   "source": [
    "target = smarthouse['tipo_sh']"
   ]
  },
  {
   "cell_type": "code",
   "execution_count": 6,
   "metadata": {},
   "outputs": [],
   "source": [
    "cols_to_use = ['n_moradores','idosos','def_loc','def_b_v','def_cog','def_aud','comodos',\n",
    "               'r_anual','classe','A','B','C','D','E','instalacao','preco','familia','crianca']"
   ]
  },
  {
   "cell_type": "code",
   "execution_count": 7,
   "metadata": {},
   "outputs": [],
   "source": [
    "X = smarthouse[cols_to_use]\n",
    "y = target"
   ]
  },
  {
   "cell_type": "code",
   "execution_count": 8,
   "metadata": {},
   "outputs": [],
   "source": [
    "X_treino, X_teste, y_treino, y_teste = train_test_split(X, y, test_size=0.30)"
   ]
  },
  {
   "cell_type": "markdown",
   "metadata": {},
   "source": [
    "# NAIVE BAYES #"
   ]
  },
  {
   "cell_type": "code",
   "execution_count": 9,
   "metadata": {},
   "outputs": [
    {
     "name": "stdout",
     "output_type": "stream",
     "text": [
      "Naive-Bayes accuracy:  0.5\n"
     ]
    }
   ],
   "source": [
    "gnb = GaussianNB()\n",
    "pred = gnb.fit(X_treino, y_treino).predict(X_teste)\n",
    "\n",
    "print(\"Naive-Bayes accuracy: \", accuracy_score(y_teste, pred) )"
   ]
  },
  {
   "cell_type": "code",
   "execution_count": 10,
   "metadata": {},
   "outputs": [
    {
     "name": "stdout",
     "output_type": "stream",
     "text": [
      "[[2 0 0 1 3 0]\n",
      " [3 6 1 1 0 0]\n",
      " [0 0 0 1 1 0]\n",
      " [0 0 5 3 1 0]\n",
      " [1 1 0 0 1 0]\n",
      " [0 0 0 0 0 7]]\n",
      "              precision    recall  f1-score   support\n",
      "\n",
      "          SH       0.33      0.33      0.33         6\n",
      "        SHBV       0.86      0.55      0.67        11\n",
      "        SHDA       0.00      0.00      0.00         2\n",
      "        SHDC       0.50      0.33      0.40         9\n",
      "        SHDL       0.17      0.33      0.22         3\n",
      "         SHI       1.00      1.00      1.00         7\n",
      "\n",
      "    accuracy                           0.50        38\n",
      "   macro avg       0.48      0.42      0.44        38\n",
      "weighted avg       0.62      0.50      0.54        38\n",
      "\n"
     ]
    }
   ],
   "source": [
    "print(confusion_matrix(y_teste, pred))\n",
    "print(classification_report(y_teste, pred))"
   ]
  },
  {
   "cell_type": "code",
   "execution_count": 11,
   "metadata": {},
   "outputs": [
    {
     "name": "stdout",
     "output_type": "stream",
     "text": [
      "Predito  SH  SHBV  SHDA  SHDC  SHDL  SHI  All\n",
      "Real                                         \n",
      "SH        2     0     0     1     3    0    6\n",
      "SHBV      3     6     1     1     0    0   11\n",
      "SHDA      0     0     0     1     1    0    2\n",
      "SHDC      0     0     5     3     1    0    9\n",
      "SHDL      1     1     0     0     1    0    3\n",
      "SHI       0     0     0     0     0    7    7\n",
      "All       6     7     6     6     6    7   38\n"
     ]
    }
   ],
   "source": [
    "print (pd.crosstab(y_teste, pred, rownames=['Real'], colnames=['Predito'], margins=True))"
   ]
  },
  {
   "cell_type": "code",
   "execution_count": 12,
   "metadata": {},
   "outputs": [],
   "source": [
    "#smarthouse['familia']=le.inverse_transform(smarthouse['familia'])\n"
   ]
  },
  {
   "cell_type": "code",
   "execution_count": 13,
   "metadata": {},
   "outputs": [],
   "source": [
    "#from yellowbrick.classifier import ClassificationReport\n",
    "#visualizer = ClassificationReport(gnb, classes=target)\n",
    "#visualizer.fit(X_treino, y_treino) # Fit the training data to the visualizer\n",
    "#visualizer.score(X_teste, y_teste) # Evaluate the model on the test data\n",
    "#g = visualizer.poof() # Draw/show/poof the data"
   ]
  },
  {
   "cell_type": "markdown",
   "metadata": {},
   "source": [
    "# LINEAR SVC#"
   ]
  },
  {
   "cell_type": "code",
   "execution_count": 14,
   "metadata": {},
   "outputs": [
    {
     "name": "stderr",
     "output_type": "stream",
     "text": [
      "C:\\Users\\gabid\\anaconda3\\lib\\site-packages\\sklearn\\svm\\_base.py:977: ConvergenceWarning: Liblinear failed to converge, increase the number of iterations.\n",
      "  \"the number of iterations.\", ConvergenceWarning)\n"
     ]
    },
    {
     "name": "stdout",
     "output_type": "stream",
     "text": [
      "LinearSVC accuracy :  0.5526315789473685\n"
     ]
    }
   ],
   "source": [
    "from sklearn.svm import LinearSVC\n",
    "svc_model = LinearSVC(max_iter = 2500, random_state=0)\n",
    "pred = svc_model.fit(X_treino, y_treino).predict(X_teste)\n",
    "print(\"LinearSVC accuracy : \",accuracy_score(y_teste, pred, normalize = True))"
   ]
  },
  {
   "cell_type": "code",
   "execution_count": 15,
   "metadata": {},
   "outputs": [
    {
     "name": "stdout",
     "output_type": "stream",
     "text": [
      "Predito  SH  SHBV  SHDA  SHDC  SHDL  SHI  All\n",
      "Real                                         \n",
      "SH        4     0     0     0     2    0    6\n",
      "SHBV      3     3     2     0     3    0   11\n",
      "SHDA      0     0     1     1     0    0    2\n",
      "SHDC      0     1     4     4     0    0    9\n",
      "SHDL      0     1     0     0     2    0    3\n",
      "SHI       0     0     0     0     0    7    7\n",
      "All       7     5     7     5     7    7   38\n"
     ]
    }
   ],
   "source": [
    "print (pd.crosstab(y_teste, pred, rownames=['Real'], colnames=['Predito'], margins=True))"
   ]
  },
  {
   "cell_type": "code",
   "execution_count": 16,
   "metadata": {},
   "outputs": [
    {
     "name": "stdout",
     "output_type": "stream",
     "text": [
      "[[4 0 0 0 2 0]\n",
      " [3 3 2 0 3 0]\n",
      " [0 0 1 1 0 0]\n",
      " [0 1 4 4 0 0]\n",
      " [0 1 0 0 2 0]\n",
      " [0 0 0 0 0 7]]\n",
      "              precision    recall  f1-score   support\n",
      "\n",
      "          SH       0.57      0.67      0.62         6\n",
      "        SHBV       0.60      0.27      0.37        11\n",
      "        SHDA       0.14      0.50      0.22         2\n",
      "        SHDC       0.80      0.44      0.57         9\n",
      "        SHDL       0.29      0.67      0.40         3\n",
      "         SHI       1.00      1.00      1.00         7\n",
      "\n",
      "    accuracy                           0.55        38\n",
      "   macro avg       0.57      0.59      0.53        38\n",
      "weighted avg       0.67      0.55      0.57        38\n",
      "\n"
     ]
    }
   ],
   "source": [
    "print(confusion_matrix(y_teste, pred))\n",
    "print(classification_report(y_teste, pred))"
   ]
  },
  {
   "cell_type": "markdown",
   "metadata": {},
   "source": [
    "# K- NEIGHBORS #"
   ]
  },
  {
   "cell_type": "code",
   "execution_count": 17,
   "metadata": {},
   "outputs": [
    {
     "name": "stdout",
     "output_type": "stream",
     "text": [
      "KNeighbors accuracy score :  0.42105263157894735\n"
     ]
    }
   ],
   "source": [
    "from sklearn.neighbors import KNeighborsClassifier\n",
    "neigh = KNeighborsClassifier(n_neighbors=3)\n",
    "neigh.fit(X_treino, y_treino)\n",
    "pred = neigh.predict(X_teste)\n",
    "print (\"KNeighbors accuracy score : \",accuracy_score(y_teste, pred))"
   ]
  },
  {
   "cell_type": "code",
   "execution_count": 18,
   "metadata": {},
   "outputs": [
    {
     "name": "stdout",
     "output_type": "stream",
     "text": [
      "Predito  SH  SHBV  SHDA  SHDC  SHDL  SHI  All\n",
      "Real                                         \n",
      "SH        1     3     0     1     1    0    6\n",
      "SHBV      3     4     2     2     0    0   11\n",
      "SHDA      0     0     1     1     0    0    2\n",
      "SHDC      0     4     2     3     0    0    9\n",
      "SHDL      0     0     0     1     2    0    3\n",
      "SHI       1     0     0     0     1    5    7\n",
      "All       5    11     5     8     4    5   38\n"
     ]
    }
   ],
   "source": [
    "print (pd.crosstab(y_teste, pred, rownames=['Real'], colnames=['Predito'], margins=True))"
   ]
  },
  {
   "cell_type": "code",
   "execution_count": 19,
   "metadata": {},
   "outputs": [
    {
     "name": "stdout",
     "output_type": "stream",
     "text": [
      "[[1 3 0 1 1 0]\n",
      " [3 4 2 2 0 0]\n",
      " [0 0 1 1 0 0]\n",
      " [0 4 2 3 0 0]\n",
      " [0 0 0 1 2 0]\n",
      " [1 0 0 0 1 5]]\n",
      "              precision    recall  f1-score   support\n",
      "\n",
      "          SH       0.20      0.17      0.18         6\n",
      "        SHBV       0.36      0.36      0.36        11\n",
      "        SHDA       0.20      0.50      0.29         2\n",
      "        SHDC       0.38      0.33      0.35         9\n",
      "        SHDL       0.50      0.67      0.57         3\n",
      "         SHI       1.00      0.71      0.83         7\n",
      "\n",
      "    accuracy                           0.42        38\n",
      "   macro avg       0.44      0.46      0.43        38\n",
      "weighted avg       0.46      0.42      0.43        38\n",
      "\n"
     ]
    }
   ],
   "source": [
    "print(confusion_matrix(y_teste, pred))\n",
    "print(classification_report(y_teste, pred))"
   ]
  }
 ],
 "metadata": {
  "kernelspec": {
   "display_name": "Python 3",
   "language": "python",
   "name": "python3"
  },
  "language_info": {
   "codemirror_mode": {
    "name": "ipython",
    "version": 3
   },
   "file_extension": ".py",
   "mimetype": "text/x-python",
   "name": "python",
   "nbconvert_exporter": "python",
   "pygments_lexer": "ipython3",
   "version": "3.7.6"
  }
 },
 "nbformat": 4,
 "nbformat_minor": 4
}
